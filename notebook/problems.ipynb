{
 "cells": [
  {
   "cell_type": "markdown",
   "id": "ac622319",
   "metadata": {},
   "source": [
    "# Descriptive statistics problems"
   ]
  },
  {
   "cell_type": "markdown",
   "id": "5e0ab0d5",
   "metadata": {},
   "source": [
    "### Exercise 1\n",
    "\n",
    "We will use NumPy to obtain information to describe statistically.\n",
    "\n",
    "- Generate an array of 100 elements following a normal distribution.\n",
    "- Generate an array of 100 elements following a chi-square distribution with 3 degrees of freedom.\n",
    "- Calculate the main metrics and statistical measures that best describe the two vectors."
   ]
  },
  {
   "cell_type": "code",
   "execution_count": 1,
   "id": "34720ab6",
   "metadata": {},
   "outputs": [
    {
     "name": "stdout",
     "output_type": "stream",
     "text": [
      "Normal mean: -0.0518880949267914\n",
      "Normal median: 0.07593865168960726\n",
      "Normal mode: 0.3352319965821746\n",
      "Normal variance: 0.9386582452177429\n",
      "Normal standard deviation: 0.9688437671873329\n",
      " \n",
      "Chi-square mean: 3.0698501236282043\n",
      "Chi-square median: 2.0638436598863423\n",
      "Chi-square mode: 2.6129186124808474\n",
      "Chi-square variance: 8.910259984538152\n",
      "Chi-square standard deviation: 2.9850058600508897\n"
     ]
    }
   ],
   "source": [
    "# TODO\n",
    "import numpy as np\n",
    "import statistics as stats\n",
    "\n",
    "normarray = np.random.normal(size = 100)\n",
    "\n",
    "chiarray = np.random.chisquare(3, 100)\n",
    "\n",
    "nmean = stats.mean(normarray)\n",
    "print (\"Normal mean:\", nmean)\n",
    "nmedian = stats.median(normarray)\n",
    "print(\"Normal median:\", nmedian)\n",
    "nmode = stats.mode(normarray)\n",
    "print(\"Normal mode:\", nmode)\n",
    "nvar = stats.variance(normarray)\n",
    "print(\"Normal variance:\", nvar)\n",
    "nstd = stats.stdev(normarray)\n",
    "print(\"Normal standard deviation:\", nstd)\n",
    "\n",
    "print(\" \")\n",
    "\n",
    "cmean = stats.mean(chiarray)\n",
    "print(\"Chi-square mean:\", cmean)\n",
    "cmedian = stats.median(chiarray)\n",
    "print(\"Chi-square median:\", cmedian)\n",
    "cmode = stats.mode(chiarray)\n",
    "print(\"Chi-square mode:\", cmode)\n",
    "cvar = stats.variance(chiarray)\n",
    "print(\"Chi-square variance:\", cvar)\n",
    "cstd = stats.stdev(chiarray)\n",
    "print(\"Chi-square standard deviation:\", cstd)\n"
   ]
  },
  {
   "cell_type": "markdown",
   "id": "46c70c3d",
   "metadata": {},
   "source": [
    "### Exercise 2\n",
    "\n",
    "Write a Python program to calculate the standard deviation of the following data:\n",
    "\n",
    "```py\n",
    "data = [4, 2, 5, 8, 6]\n",
    "```"
   ]
  },
  {
   "cell_type": "code",
   "execution_count": 2,
   "id": "d590308e",
   "metadata": {},
   "outputs": [
    {
     "name": "stdout",
     "output_type": "stream",
     "text": [
      "Standard Deviation: 2.0\n"
     ]
    }
   ],
   "source": [
    "# TODO\n",
    "\n",
    "data = [4, 2, 5, 8, 6]\n",
    "\n",
    "sarray = np.array(data)\n",
    "mean = sarray.mean()\n",
    "temp_total = 0\n",
    "n = len(sarray)\n",
    "\n",
    "for i in sarray:\n",
    "    temp_total += (i - mean)**2\n",
    "\n",
    "Total = (temp_total/n)**0.5\n",
    "print (\"Standard Deviation:\", Total)\n",
    "\n"
   ]
  }
 ],
 "metadata": {
  "kernelspec": {
   "display_name": "Python 3",
   "language": "python",
   "name": "python3"
  },
  "language_info": {
   "codemirror_mode": {
    "name": "ipython",
    "version": 3
   },
   "file_extension": ".py",
   "mimetype": "text/x-python",
   "name": "python",
   "nbconvert_exporter": "python",
   "pygments_lexer": "ipython3",
   "version": "3.11.4"
  }
 },
 "nbformat": 4,
 "nbformat_minor": 5
}
